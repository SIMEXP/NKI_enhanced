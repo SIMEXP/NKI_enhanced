{
 "metadata": {
  "name": "",
  "signature": "sha256:7c92e786abac53aa12e9affca8570af50f5cd09cea9d87cb34aab95b83b5480c"
 },
 "nbformat": 3,
 "nbformat_minor": 0,
 "worksheets": [
  {
   "cells": [
    {
     "cell_type": "code",
     "collapsed": false,
     "input": [
      "from pymatbridge import Octave\n",
      "octave = Octave()\n",
      "octave.start()\n",
      "%load_ext pymatbridge"
     ],
     "language": "python",
     "metadata": {},
     "outputs": [
      {
       "output_type": "stream",
       "stream": "stdout",
       "text": [
        "Starting Octave on ZMQ socket ipc:///tmp/pymatbridge\n",
        "Send 'exit' command to kill the server\n",
        ".Octave started and connected!"
       ]
      },
      {
       "output_type": "stream",
       "stream": "stdout",
       "text": [
        "\n",
        "Starting MATLAB on ZMQ socket ipc:///tmp/pymatbridge\n",
        "Send 'exit' command to kill the server\n",
        ".MATLAB started and connected!"
       ]
      },
      {
       "output_type": "stream",
       "stream": "stdout",
       "text": [
        "\n"
       ]
      }
     ],
     "prompt_number": 1
    },
    {
     "cell_type": "markdown",
     "metadata": {},
     "source": [
      "##NKI Breath hold subgoups fir"
     ]
    },
    {
     "cell_type": "markdown",
     "metadata": {},
     "source": [
      "### EXP1a:\n",
      "* In  this EXP I'm using Breath-hold task individual fir from scale __`sci190_scg152_scf176`__, the fir normalisation is __`perc`__. Data are __scrubbed__."
     ]
    },
    {
     "cell_type": "code",
     "collapsed": false,
     "input": [
      "%%matlab\n",
      "clear\n",
      "path_root =  '/media/yassinebha/database2/nki_enhanced/';\n",
      "list_scale = { 'sci190_scg152_scf176'};\n",
      "task = 'breathhold' ;\n",
      "tr = {'1400'};\n",
      "fir = 'fir_perc';\n",
      "scrub = '';"
     ],
     "language": "python",
     "metadata": {},
     "outputs": [],
     "prompt_number": 6
    },
    {
     "cell_type": "code",
     "collapsed": false,
     "input": [
      "%%matlab\n",
      "%%Load phenotypes\n",
      "pheno = niak_read_csv_cell([path_root 'nki-rs_lite_r1-2-3-4-5_phenotypic_v1.csv']);\n",
      "lx = pheno(2:end,1);\n",
      "ly = pheno(1,2:end)';\n",
      "pheno = pheno(2:end,2:end);"
     ],
     "language": "python",
     "metadata": {},
     "outputs": [],
     "prompt_number": 9
    },
    {
     "cell_type": "code",
     "collapsed": false,
     "input": [
      "%%matlab\n",
      "%% Load data\n",
      "for tt = 1:length(tr)\n",
      "    path_read  = [path_root 'stability_' fir '_' task '_' tr{tt} scrub '/stability_group/fir/'];\n",
      "    path_fmri  = [path_root 'fmri_preprocess_ALL_task/fmri/'];\n",
      "    list_files = dir([path_read 'fir_group_level_*']);\n",
      "    list_files = {list_files.name};\n",
      "    \n",
      "    for ff = 1:length(list_files);\n",
      "        subject = list_files{ff}(end-10:end-4);\n",
      "        ind_s = find(ismember(lx,subject));\n",
      "        if isempty(ind_s)\n",
      "            warning('Could not find subject %s',subject)\n",
      "            list_files{ff}= [];\n",
      "        end\n",
      "    end\n",
      "    list_files(cellfun(@isempty,list_files)) = [];   %remove empty cells \n",
      "    pheno_r = cell(length(list_files),size(pheno,2));\n",
      "    for ff = 1:length(list_files);\n",
      "        subject = list_files{ff}(end-10:end-4);\n",
      "        ind_s = find(ismember(lx,subject));\n",
      "        pheno_r(ff,:) = pheno(ind_s,:);\n",
      "        data = load([path_read list_files{ff}],list_scale{tt});\n",
      "        fir_all{tt}(:,:,ff) = data.(list_scale{tt}).fir_mean;\n",
      "    end\n",
      "end"
     ],
     "language": "python",
     "metadata": {},
     "outputs": [
      {
       "metadata": {},
       "output_type": "display_data",
       "text": [
        "warning: Could not find subject 0104892\n",
        "warning: Could not find subject 0105922\n",
        "warning: Could not find subject 0198101\n"
       ]
      }
     ],
     "prompt_number": 10
    },
    {
     "cell_type": "code",
     "collapsed": false,
     "input": [
      "%%matlab\n",
      "pheno_num = zeros(size(pheno_r,1),1);\n",
      "for xx = 1:size(pheno_r,1)\n",
      "    %for yy = 1:size(pheno_r,2)\n",
      "    for yy = 1\n",
      "        if isempty(pheno_r{xx,yy})\n",
      "            pheno_num(xx,yy) = NaN;\n",
      "        else\n",
      "            pheno_num(xx,yy) = str2num(pheno_r{xx,yy});\n",
      "        end\n",
      "    end\n",
      "end"
     ],
     "language": "python",
     "metadata": {},
     "outputs": [],
     "prompt_number": 11
    },
    {
     "cell_type": "markdown",
     "metadata": {},
     "source": [
      "##### in this step we need to select the clusters based the maximum response to the task. First lets creat a max  effect map then visualise it with mricron  "
     ]
    },
    {
     "cell_type": "code",
     "collapsed": false,
     "input": [
      "%%matlab\n",
      "path_scales =  [path_root 'stability_' fir '_' task '_' tr{1} scrub '/stability_group/' list_scale{1}];\n",
      "niak_brick_mnc2nii(path_scales,[path_scales '_nii']);"
     ],
     "language": "python",
     "metadata": {},
     "outputs": [
      {
       "metadata": {},
       "output_type": "display_data",
       "text": [
        "Convert /media/yassinebha/database2/nki_enhanced/stability_fir_perc_breathhold_1400/stability_group/sci190_scg152_scf176//brain_partition_adjusted_group_sci190_scg152_scf176.mnc.gz to /media/yassinebha/database2/nki_enhanced/stability_fir_perc_breathhold_1400/stability_group/sci190_scg152_scf176_nii//brain_partition_adjusted_group_sci190_scg152_scf176.nii\n",
        "Convert /media/yassinebha/database2/nki_enhanced/stability_fir_perc_breathhold_1400/stability_group/sci190_scg152_scf176//brain_partition_consensus_group_sci190_scg152_scf176.mnc.gz to /media/yassinebha/database2/nki_enhanced/stability_fir_perc_breathhold_1400/stability_group/sci190_scg152_scf176_nii//brain_partition_consensus_group_sci190_scg152_scf176.nii\n",
        "Convert /media/yassinebha/database2/nki_enhanced/stability_fir_perc_breathhold_1400/stability_group/sci190_scg152_scf176//brain_partition_core_group_sci190_scg152_scf176.mnc.gz to /media/yassinebha/database2/nki_enhanced/stability_fir_perc_breathhold_1400/stability_group/sci190_scg152_scf176_nii//brain_partition_core_group_sci190_scg152_scf176.nii\n",
        "Convert /media/yassinebha/database2/nki_enhanced/stability_fir_perc_breathhold_1400/stability_group/sci190_scg152_scf176//brain_partition_threshold_group_sci190_scg152_scf176.mnc.gz to /media/yassinebha/database2/nki_enhanced/stability_fir_perc_breathhold_1400/stability_group/sci190_scg152_scf176_nii//brain_partition_threshold_group_sci190_scg152_scf176.nii\n",
        "Convert /media/yassinebha/database2/nki_enhanced/stability_fir_perc_breathhold_1400/stability_group/sci190_scg152_scf176//compound_stability_map_group_sci190_scg152_scf176.mnc.gz to /media/yassinebha/database2/nki_enhanced/stability_fir_perc_breathhold_1400/stability_group/sci190_scg152_scf176_nii//compound_stability_map_group_sci190_scg152_scf176.nii\n",
        "Copy /media/yassinebha/database2/nki_enhanced/stability_fir_perc_breathhold_1400/stability_group/sci190_scg152_scf176//fdr_group_average_sci190_scg152_scf176.mat to /media/yassinebha/database2/nki_enhanced/stability_fir_perc_breathhold_1400/stability_group/sci190_scg152_scf176_nii//fdr_group_average_sci190_scg152_scf176.mat\n",
        "Copy /media/yassinebha/database2/nki_enhanced/stability_fir_perc_breathhold_1400/stability_group/sci190_scg152_scf176//figure_stability_group_sci190_scg152_scf176.pdf to /media/yassinebha/database2/nki_enhanced/stability_fir_perc_breathhold_1400/stability_group/sci190_scg152_scf176_nii//figure_stability_group_sci190_scg152_scf176.pdf\n",
        "Convert /media/yassinebha/database2/nki_enhanced/stability_fir_perc_breathhold_1400/stability_group/sci190_scg152_scf176//stability_maps_group_sci190_scg152_scf176.mnc.gz to /media/yassinebha/database2/nki_enhanced/stability_fir_perc_breathhold_1400/stability_group/sci190_scg152_scf176_nii//stability_maps_group_sci190_scg152_scf176.nii\n"
       ]
      }
     ],
     "prompt_number": 12
    },
    {
     "cell_type": "code",
     "collapsed": false,
     "input": [
      "%%matlab\n",
      "system('source /opt/minc/minc-toolkit-config.sh')\n",
      "cd([path_scales '_nii'])\n",
      "max_effect_vol(['brain_partition_consensus_group_' list_scale{1} '.nii.gz'],['fdr_group_average_' list_scale{1} '.mat']);\n",
      "system('mricron  ~/database/white_template.nii.gz -c -0 -o max_abs_eff.nii.gz -c \"5redyell\" -l 0.005 -h 0.5 -z  &');\n",
      "system(['mricron ~/database/white_template.nii.gz -c -0 -o ' path_scales '_nii/brain_partition_consensus_group_' list_scale{1} '.nii.gz &']);"
     ],
     "language": "python",
     "metadata": {},
     "outputs": [
      {
       "metadata": {},
       "output_type": "display_data",
       "text": [
        "ans =  127\n"
       ]
      }
     ],
     "prompt_number": 16
    },
    {
     "cell_type": "markdown",
     "metadata": {},
     "source": [
      "####Here is the cluster I selected"
     ]
    },
    {
     "cell_type": "markdown",
     "metadata": {},
     "source": [
      "<img src=\"https://doc-0k-6k-docs.googleusercontent.com/docs/securesc/ho6d0o5ps42fserk3e4ul09al8g5lkk0/2cb4l5s4d0pu08i3joi41a5vbtt1s4ka/1427486400000/13852016011801724151/13852016011801724151/0Byx2Z7TU8VPRakNFckJNRUFXeW8\" >\n"
     ]
    },
    {
     "cell_type": "code",
     "collapsed": false,
     "input": [
      "%%matlab\n",
      "%% More parameters\n",
      "list_ind = [ 166 ];\n",
      "list_color = {'r','b','g','k','p'};\n",
      "\n",
      "%% Hierarchical clustering\n",
      "hc = figure;\n",
      "hp = figure;\n",
      "for tt = 1:length(tr)\n",
      "    for ii = 1:length(list_ind)\n",
      "        % Clustering of subtypes\n",
      "        figure(hc)\n",
      "        fir_td = squeeze(fir_all{tt}(:,list_ind(ii),:));\n",
      "        fir_td = fir_td./repmat(sqrt(sum(fir_td.^2,1)),[size(fir_td,1) 1]);\n",
      "        fir_td(isnan(fir_td)) = 0;\n",
      "        fir_td = fir_td - repmat(mean(fir_td,2),[1 size(fir_td,2)]);\n",
      "        D = niak_build_distance (fir_td);\n",
      "        hier = niak_hierarchical_clustering (-D);\n",
      "        sil = niak_build_avg_silhouette(-D,hier);\n",
      "        %[val,nb_clust(tt)] = max(sil(1:50));\n",
      "        val = NaN;\n",
      "        nb_clust(tt) = 5;\n",
      "        fprintf('Task %s, max silhouette %1.2f at scale %i\\n',tr{tt},val,nb_clust(tt))\n",
      "        part = niak_threshold_hierarchy (hier,struct('thresh',nb_clust(tt)));\n",
      "        order = niak_hier2order (hier);\n",
      "        subplot(3,length(tr),tt)\n",
      "        niak_visu_matrix(D(order,order));\n",
      "        subplot(3,length(tr),tt+length(tr))\n",
      "        niak_visu_part(part(order))\n",
      "        subplot(3,length(tr),tt+2*length(tr))\n",
      "        plot(sil)\n",
      "        hold on\n",
      "        plot(nb_clust(tt),val,'rx')\n",
      "        \n",
      "        % Show the subtypes\n",
      "        figure(hp)\n",
      "        subplot(1,length(tr),tt)\n",
      "        title(sprintf('Task %s',tr{tt}));\n",
      "        for cc = 1:nb_clust(tt)        \n",
      "            hold on \n",
      "            plot(mean(fir_all{tt}(:,list_ind(ii),part==cc),3),list_color{cc})\n",
      "        end\n",
      "        \n",
      "        %% Build distance scores for all subtypes\n",
      "        for cc = 1:nb_clust(tt)        \n",
      "            avg_clust(:,cc) = mean(fir_td(:,part==cc),2);\n",
      "            %weights(:,cc) = sum((fir_td-repmat(avg_clust(:,cc),[1 size(fir_td,2)])).^2);\n",
      "            weights(:,cc) = corr(fir_td,avg_clust(:,cc));\n",
      "        end\n",
      "     end\n",
      "end"
     ],
     "language": "python",
     "metadata": {},
     "outputs": [
      {
       "metadata": {},
       "output_type": "display_data",
       "text": [
        "     Percentage done : 0 5 10 15 20 25 30 35 40 45 50 55 60 65 70 75 80 85 90 95 100 Done ! \n",
        "     Percentage done : 0 5 10 15 20 25 30 35 40 45 50 55 60 65 70 75 80 85 90 95 Done ! \n",
        "Task 1400, max silhouette NaN at scale 5\n"
       ]
      },
      {
       "metadata": {},
       "output_type": "display_data",
       "png": "[encoded data removed]"
      },
      {
       "metadata": {},
       "output_type": "display_data",
       "png": "[encoded data removed]"
      }
     ],
     "prompt_number": 15
    },
    {
     "cell_type": "markdown",
     "metadata": {},
     "source": [
      "### EXP1b:\n",
      "* In  this EXP I'm using Breath-hold task individual fir from scale __`sci190_scg152_scf176`__, the fir normalisation is __`perc`__. Data are __not scrubbed__.\n",
      "\n",
      "*comming soon : waiting after guillimin!!!*"
     ]
    }
   ],
   "metadata": {}
  }
 ]
}